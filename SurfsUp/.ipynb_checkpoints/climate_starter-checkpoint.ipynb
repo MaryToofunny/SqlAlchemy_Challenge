{
 "cells": [
  {
   "cell_type": "code",
   "execution_count": 54,
   "metadata": {},
   "outputs": [],
   "source": [
    "%matplotlib inline\n",
    "from matplotlib import style\n",
    "style.use('fivethirtyeight')\n",
    "import matplotlib.pyplot as plt"
   ]
  },
  {
   "cell_type": "code",
   "execution_count": 55,
   "metadata": {},
   "outputs": [],
   "source": [
    "import numpy as np\n",
    "import pandas as pd\n",
    "import datetime as dt"
   ]
  },
  {
   "cell_type": "markdown",
   "metadata": {},
   "source": [
    "# Reflect Tables into SQLAlchemy ORM"
   ]
  },
  {
   "cell_type": "code",
   "execution_count": 56,
   "metadata": {},
   "outputs": [],
   "source": [
    "# Python SQL toolkit and Object Relational Mapper\n",
    "import sqlalchemy\n",
    "from sqlalchemy.ext.automap import automap_base\n",
    "from sqlalchemy.orm import Session\n",
    "from sqlalchemy import create_engine, func\n",
    "from dateutil.relativedelta import relativedelta"
   ]
  },
  {
   "cell_type": "code",
   "execution_count": 57,
   "metadata": {},
   "outputs": [],
   "source": [
    "# create engine to hawaii.sqlite\n",
    "engine = create_engine(\"sqlite:///Resources/hawaii.sqlite\",echo=True)"
   ]
  },
  {
   "cell_type": "code",
   "execution_count": 58,
   "metadata": {},
   "outputs": [
    {
     "name": "stdout",
     "output_type": "stream",
     "text": [
      "2023-01-12 15:42:12,499 INFO sqlalchemy.engine.Engine SELECT name FROM sqlite_master WHERE type='table' ORDER BY name\n",
      "2023-01-12 15:42:12,500 INFO sqlalchemy.engine.Engine [raw sql] ()\n",
      "2023-01-12 15:42:12,501 INFO sqlalchemy.engine.Engine PRAGMA main.table_xinfo(\"measurement\")\n",
      "2023-01-12 15:42:12,501 INFO sqlalchemy.engine.Engine [raw sql] ()\n",
      "2023-01-12 15:42:12,503 INFO sqlalchemy.engine.Engine SELECT sql FROM  (SELECT * FROM sqlite_master UNION ALL   SELECT * FROM sqlite_temp_master) WHERE name = ? AND type = 'table'\n",
      "2023-01-12 15:42:12,504 INFO sqlalchemy.engine.Engine [raw sql] ('measurement',)\n",
      "2023-01-12 15:42:12,505 INFO sqlalchemy.engine.Engine PRAGMA main.foreign_key_list(\"measurement\")\n",
      "2023-01-12 15:42:12,505 INFO sqlalchemy.engine.Engine [raw sql] ()\n",
      "2023-01-12 15:42:12,506 INFO sqlalchemy.engine.Engine PRAGMA temp.foreign_key_list(\"measurement\")\n",
      "2023-01-12 15:42:12,506 INFO sqlalchemy.engine.Engine [raw sql] ()\n",
      "2023-01-12 15:42:12,507 INFO sqlalchemy.engine.Engine SELECT sql FROM  (SELECT * FROM sqlite_master UNION ALL   SELECT * FROM sqlite_temp_master) WHERE name = ? AND type = 'table'\n",
      "2023-01-12 15:42:12,507 INFO sqlalchemy.engine.Engine [raw sql] ('measurement',)\n",
      "2023-01-12 15:42:12,508 INFO sqlalchemy.engine.Engine PRAGMA main.index_list(\"measurement\")\n",
      "2023-01-12 15:42:12,508 INFO sqlalchemy.engine.Engine [raw sql] ()\n",
      "2023-01-12 15:42:12,509 INFO sqlalchemy.engine.Engine PRAGMA temp.index_list(\"measurement\")\n",
      "2023-01-12 15:42:12,509 INFO sqlalchemy.engine.Engine [raw sql] ()\n",
      "2023-01-12 15:42:12,510 INFO sqlalchemy.engine.Engine PRAGMA main.index_list(\"measurement\")\n",
      "2023-01-12 15:42:12,511 INFO sqlalchemy.engine.Engine [raw sql] ()\n",
      "2023-01-12 15:42:12,512 INFO sqlalchemy.engine.Engine PRAGMA temp.index_list(\"measurement\")\n",
      "2023-01-12 15:42:12,513 INFO sqlalchemy.engine.Engine [raw sql] ()\n",
      "2023-01-12 15:42:12,514 INFO sqlalchemy.engine.Engine SELECT sql FROM  (SELECT * FROM sqlite_master UNION ALL   SELECT * FROM sqlite_temp_master) WHERE name = ? AND type = 'table'\n",
      "2023-01-12 15:42:12,514 INFO sqlalchemy.engine.Engine [raw sql] ('measurement',)\n",
      "2023-01-12 15:42:12,515 INFO sqlalchemy.engine.Engine PRAGMA main.table_xinfo(\"station\")\n",
      "2023-01-12 15:42:12,516 INFO sqlalchemy.engine.Engine [raw sql] ()\n",
      "2023-01-12 15:42:12,518 INFO sqlalchemy.engine.Engine SELECT sql FROM  (SELECT * FROM sqlite_master UNION ALL   SELECT * FROM sqlite_temp_master) WHERE name = ? AND type = 'table'\n",
      "2023-01-12 15:42:12,518 INFO sqlalchemy.engine.Engine [raw sql] ('station',)\n",
      "2023-01-12 15:42:12,520 INFO sqlalchemy.engine.Engine PRAGMA main.foreign_key_list(\"station\")\n",
      "2023-01-12 15:42:12,520 INFO sqlalchemy.engine.Engine [raw sql] ()\n",
      "2023-01-12 15:42:12,521 INFO sqlalchemy.engine.Engine PRAGMA temp.foreign_key_list(\"station\")\n",
      "2023-01-12 15:42:12,521 INFO sqlalchemy.engine.Engine [raw sql] ()\n",
      "2023-01-12 15:42:12,522 INFO sqlalchemy.engine.Engine SELECT sql FROM  (SELECT * FROM sqlite_master UNION ALL   SELECT * FROM sqlite_temp_master) WHERE name = ? AND type = 'table'\n",
      "2023-01-12 15:42:12,522 INFO sqlalchemy.engine.Engine [raw sql] ('station',)\n",
      "2023-01-12 15:42:12,524 INFO sqlalchemy.engine.Engine PRAGMA main.index_list(\"station\")\n",
      "2023-01-12 15:42:12,524 INFO sqlalchemy.engine.Engine [raw sql] ()\n",
      "2023-01-12 15:42:12,525 INFO sqlalchemy.engine.Engine PRAGMA temp.index_list(\"station\")\n",
      "2023-01-12 15:42:12,526 INFO sqlalchemy.engine.Engine [raw sql] ()\n",
      "2023-01-12 15:42:12,527 INFO sqlalchemy.engine.Engine PRAGMA main.index_list(\"station\")\n",
      "2023-01-12 15:42:12,527 INFO sqlalchemy.engine.Engine [raw sql] ()\n",
      "2023-01-12 15:42:12,528 INFO sqlalchemy.engine.Engine PRAGMA temp.index_list(\"station\")\n",
      "2023-01-12 15:42:12,528 INFO sqlalchemy.engine.Engine [raw sql] ()\n",
      "2023-01-12 15:42:12,529 INFO sqlalchemy.engine.Engine SELECT sql FROM  (SELECT * FROM sqlite_master UNION ALL   SELECT * FROM sqlite_temp_master) WHERE name = ? AND type = 'table'\n",
      "2023-01-12 15:42:12,529 INFO sqlalchemy.engine.Engine [raw sql] ('station',)\n"
     ]
    }
   ],
   "source": [
    "# reflect an existing database into a new model\n",
    "Base = automap_base()\n",
    "# reflect the tables\n",
    "Base.prepare(autoload_with=engine)"
   ]
  },
  {
   "cell_type": "code",
   "execution_count": 59,
   "metadata": {},
   "outputs": [
    {
     "data": {
      "text/plain": [
       "['measurement', 'station']"
      ]
     },
     "execution_count": 59,
     "metadata": {},
     "output_type": "execute_result"
    }
   ],
   "source": [
    "# View all of the classes that automap found\n",
    "Base.classes.keys()"
   ]
  },
  {
   "cell_type": "code",
   "execution_count": 60,
   "metadata": {},
   "outputs": [],
   "source": [
    "# Save references to each table\n",
    "Measurement=Base.classes.measurement\n",
    "Station=Base.classes.station"
   ]
  },
  {
   "cell_type": "code",
   "execution_count": 61,
   "metadata": {},
   "outputs": [],
   "source": [
    "# Create our session (link) from Python to the DB\n",
    "session=Session(engine)\n"
   ]
  },
  {
   "cell_type": "code",
   "execution_count": 62,
   "metadata": {},
   "outputs": [
    {
     "name": "stdout",
     "output_type": "stream",
     "text": [
      "2023-01-12 15:42:15,350 INFO sqlalchemy.engine.Engine BEGIN (implicit)\n",
      "2023-01-12 15:42:15,352 INFO sqlalchemy.engine.Engine SELECT measurement.id AS measurement_id, measurement.station AS measurement_station, measurement.date AS measurement_date, measurement.prcp AS measurement_prcp, measurement.tobs AS measurement_tobs \n",
      "FROM measurement\n",
      " LIMIT ? OFFSET ?\n",
      "2023-01-12 15:42:15,353 INFO sqlalchemy.engine.Engine [generated in 0.00077s] (1, 0)\n"
     ]
    },
    {
     "data": {
      "text/plain": [
       "{'_sa_instance_state': <sqlalchemy.orm.state.InstanceState at 0x1788b1466a0>,\n",
       " 'id': 1,\n",
       " 'station': 'USC00519397',\n",
       " 'tobs': 65.0,\n",
       " 'date': '2010-01-01',\n",
       " 'prcp': 0.08}"
      ]
     },
     "execution_count": 62,
     "metadata": {},
     "output_type": "execute_result"
    }
   ],
   "source": [
    "first_row = session.query(Measurement).first()\n",
    "first_row.__dict__"
   ]
  },
  {
   "cell_type": "markdown",
   "metadata": {},
   "source": [
    "# Exploratory Precipitation Analysis"
   ]
  },
  {
   "cell_type": "code",
   "execution_count": 209,
   "metadata": {},
   "outputs": [
    {
     "name": "stdout",
     "output_type": "stream",
     "text": [
      "2023-01-12 19:49:21,429 INFO sqlalchemy.engine.Engine SELECT measurement.id AS measurement_id, measurement.station AS measurement_station, measurement.date AS measurement_date, measurement.prcp AS measurement_prcp, measurement.tobs AS measurement_tobs \n",
      "FROM measurement ORDER BY measurement.date DESC\n",
      " LIMIT ? OFFSET ?\n",
      "2023-01-12 19:49:21,431 INFO sqlalchemy.engine.Engine [cached since 374s ago] (1, 0)\n",
      "2017-08-23\n"
     ]
    }
   ],
   "source": [
    "# Find the most recent date in the data set.\n",
    "# Design a query to retrieve the last 12 months of precipitation data and plot the results. \n",
    "# Starting from the most recent data point in the database. \n",
    "# Calculate the date one year from the last date in data set.\n",
    "# Perform a query to retrieve the data and precipitation scores\n",
    "# Save the query results as a Pandas DataFrame and set the index to the date column\n",
    "# Sort the dataframe by date\n",
    "# Use Pandas Plotting with Matplotlib to plot the data\n",
    "\n",
    "\n",
    "recentdate=session.query(Measurement).order_by(Measurement.date.desc()).first()\n",
    "print(recentdate.date)"
   ]
  },
  {
   "cell_type": "code",
   "execution_count": 210,
   "metadata": {},
   "outputs": [
    {
     "name": "stdout",
     "output_type": "stream",
     "text": [
      "2016-08-23\n"
     ]
    }
   ],
   "source": [
    "# Perform a query to retrieve the data and precipitation scores\n",
    "prev_year=dt.date(2017,8,23)+relativedelta(months=-12)\n",
    "print(prev_year)"
   ]
  },
  {
   "cell_type": "code",
   "execution_count": 217,
   "metadata": {},
   "outputs": [
    {
     "name": "stdout",
     "output_type": "stream",
     "text": [
      "2023-01-12 19:54:18,873 INFO sqlalchemy.engine.Engine SELECT measurement.date AS measurement_date, measurement.prcp AS measurement_prcp \n",
      "FROM measurement \n",
      "WHERE measurement.date >= ? ORDER BY measurement.date\n",
      "2023-01-12 19:54:18,875 INFO sqlalchemy.engine.Engine [cached since 1.351e+04s ago] ('2016-08-23',)\n"
     ]
    }
   ],
   "source": [
    "data=session.query(Measurement.date, Measurement.prcp).\\\n",
    "    filter(Measurement.date >= prev_year).order_by(Measurement.date).all()"
   ]
  },
  {
   "cell_type": "code",
   "execution_count": 218,
   "metadata": {},
   "outputs": [],
   "source": [
    "Date_list = []\n",
    "Prcp_list = []\n",
    "for item in data:\n",
    "    Date_list.append(item.date)\n",
    "    Prcp_list.append(item.prcp)\n",
    "df = pd.DataFrame(Prcp_list, Date_list)\n",
    "df = df.rename(columns={0:'Precipitation Scores'})"
   ]
  },
  {
   "cell_type": "code",
   "execution_count": 220,
   "metadata": {},
   "outputs": [
    {
     "data": {
      "text/plain": [
       "<AxesSubplot:xlabel='Date', ylabel='Inches'>"
      ]
     },
     "execution_count": 220,
     "metadata": {},
     "output_type": "execute_result"
    },
    {
     "data": {
      "image/png": "[encoded data removed]",
      "text/plain": [
       "<Figure size 1200x800 with 1 Axes>"
      ]
     },
     "metadata": {},
     "output_type": "display_data"
    }
   ],
   "source": [
    "\n",
    "df.plot(xlabel=\"Date\", ylabel=\"Inches\", rot=100, figsize=(12,8))\n"
   ]
  },
  {
   "cell_type": "code",
   "execution_count": 221,
   "metadata": {},
   "outputs": [
    {
     "data": {
      "text/html": [
       "<div>\n",
       "<style scoped>\n",
       "    .dataframe tbody tr th:only-of-type {\n",
       "        vertical-align: middle;\n",
       "    }\n",
       "\n",
       "    .dataframe tbody tr th {\n",
       "        vertical-align: top;\n",
       "    }\n",
       "\n",
       "    .dataframe thead th {\n",
       "        text-align: right;\n",
       "    }\n",
       "</style>\n",
       "<table border=\"1\" class=\"dataframe\">\n",
       "  <thead>\n",
       "    <tr style=\"text-align: right;\">\n",
       "      <th></th>\n",
       "      <th>Precipitation Scores</th>\n",
       "    </tr>\n",
       "  </thead>\n",
       "  <tbody>\n",
       "    <tr>\n",
       "      <th>count</th>\n",
       "      <td>2021.000000</td>\n",
       "    </tr>\n",
       "    <tr>\n",
       "      <th>mean</th>\n",
       "      <td>0.177279</td>\n",
       "    </tr>\n",
       "    <tr>\n",
       "      <th>std</th>\n",
       "      <td>0.461190</td>\n",
       "    </tr>\n",
       "    <tr>\n",
       "      <th>min</th>\n",
       "      <td>0.000000</td>\n",
       "    </tr>\n",
       "    <tr>\n",
       "      <th>25%</th>\n",
       "      <td>0.000000</td>\n",
       "    </tr>\n",
       "    <tr>\n",
       "      <th>50%</th>\n",
       "      <td>0.020000</td>\n",
       "    </tr>\n",
       "    <tr>\n",
       "      <th>75%</th>\n",
       "      <td>0.130000</td>\n",
       "    </tr>\n",
       "    <tr>\n",
       "      <th>max</th>\n",
       "      <td>6.700000</td>\n",
       "    </tr>\n",
       "  </tbody>\n",
       "</table>\n",
       "</div>"
      ],
      "text/plain": [
       "       Precipitation Scores\n",
       "count           2021.000000\n",
       "mean               0.177279\n",
       "std                0.461190\n",
       "min                0.000000\n",
       "25%                0.000000\n",
       "50%                0.020000\n",
       "75%                0.130000\n",
       "max                6.700000"
      ]
     },
     "execution_count": 221,
     "metadata": {},
     "output_type": "execute_result"
    }
   ],
   "source": [
    "# Use Pandas to calcualte the summary statistics for the precipitation data\n",
    "\n",
    "df.describe()\n"
   ]
  },
  {
   "cell_type": "markdown",
   "metadata": {},
   "source": [
    "# Exploratory Station Analysis"
   ]
  },
  {
   "cell_type": "code",
   "execution_count": 198,
   "metadata": {},
   "outputs": [
    {
     "name": "stdout",
     "output_type": "stream",
     "text": [
      "2023-01-12 19:37:14,883 INFO sqlalchemy.engine.Engine SELECT count(*) AS count_1 \n",
      "FROM (SELECT DISTINCT measurement.station AS measurement_station \n",
      "FROM measurement) AS anon_1\n",
      "2023-01-12 19:37:14,884 INFO sqlalchemy.engine.Engine [generated in 0.00098s] ()\n",
      "Total number of stations are 9.\n"
     ]
    }
   ],
   "source": [
    "# Design a query to calculate the total number stations in the dataset\n",
    "totalnumstation=session.query(Measurement.station).distinct().count()\n",
    "print(f'Total number of stations are {totalnumstation}.')\n"
   ]
  },
  {
   "cell_type": "code",
   "execution_count": 199,
   "metadata": {},
   "outputs": [
    {
     "name": "stdout",
     "output_type": "stream",
     "text": [
      "2023-01-12 19:38:33,373 INFO sqlalchemy.engine.Engine SELECT station, COUNT(station) AS \"Frequency count\"                             FROM Measurement                             GROUP BY station                             ORDER BY \"Frequency count\" DESC;\n",
      "2023-01-12 19:38:33,374 INFO sqlalchemy.engine.Engine [raw sql] ()\n",
      "2023-01-12 19:38:33,390 INFO sqlalchemy.engine.Engine SELECT station, COUNT(station) AS \"Frequency count\"                             FROM Measurement                             GROUP BY station                             ORDER BY \"Frequency count\" DESC;\n",
      "2023-01-12 19:38:33,390 INFO sqlalchemy.engine.Engine [raw sql] ()\n",
      "('USC00519281', 2772)\n",
      "('USC00519397', 2724)\n",
      "('USC00513117', 2709)\n",
      "('USC00519523', 2669)\n",
      "('USC00516128', 2612)\n",
      "('USC00514830', 2202)\n",
      "('USC00511918', 1979)\n",
      "('USC00517948', 1372)\n",
      "('USC00518838', 511)\n",
      "The most active station is USC00519281\n"
     ]
    }
   ],
   "source": [
    "# Design a query to find the most active stations (i.e. what stations have the most rows?)\n",
    "# List the stations and the counts in descending order.\n",
    "station_activity = engine.execute('SELECT station, COUNT(station) AS \"Frequency count\" \\\n",
    "                            FROM Measurement \\\n",
    "                            GROUP BY station \\\n",
    "                            ORDER BY \"Frequency count\" DESC;')\n",
    "most_active = engine.execute('SELECT station, COUNT(station) AS \"Frequency count\" \\\n",
    "                            FROM Measurement \\\n",
    "                            GROUP BY station \\\n",
    "                            ORDER BY \"Frequency count\" DESC;').first()\n",
    "for item in station_activity:\n",
    "    print(item)\n",
    "print(f'The most active station is {most_active[0]}')"
   ]
  },
  {
   "cell_type": "code",
   "execution_count": 201,
   "metadata": {},
   "outputs": [
    {
     "name": "stdout",
     "output_type": "stream",
     "text": [
      "2023-01-12 19:40:38,232 INFO sqlalchemy.engine.Engine SELECT min(measurement.tobs) AS min_1 \n",
      "FROM measurement \n",
      "WHERE measurement.station = ?\n",
      " LIMIT ? OFFSET ?\n",
      "2023-01-12 19:40:38,233 INFO sqlalchemy.engine.Engine [cached since 82.14s ago] ('USC00519281', 1, 0)\n",
      "2023-01-12 19:40:38,239 INFO sqlalchemy.engine.Engine SELECT max(measurement.tobs) AS max_1 \n",
      "FROM measurement \n",
      "WHERE measurement.station = ?\n",
      " LIMIT ? OFFSET ?\n",
      "2023-01-12 19:40:38,239 INFO sqlalchemy.engine.Engine [cached since 82.14s ago] ('USC00519281', 1, 0)\n",
      "2023-01-12 19:40:38,243 INFO sqlalchemy.engine.Engine SELECT avg(measurement.tobs) AS avg_1 \n",
      "FROM measurement \n",
      "WHERE measurement.station = ?\n",
      " LIMIT ? OFFSET ?\n",
      "2023-01-12 19:40:38,244 INFO sqlalchemy.engine.Engine [cached since 82.14s ago] ('USC00519281', 1, 0)\n",
      "The lowest temperature of station USC00519281 is 54.0\n",
      "The highest temperature of station USC00519281 is 85.0\n",
      "The average temperature of station USC00519281 is 71.66378066378067\n"
     ]
    }
   ],
   "source": [
    "# Using the most active station id from the previous query, calculate the lowest, highest, and average temperature\n",
    "min_temp = session.query(func.min(Measurement.tobs)).filter(Measurement.station == most_active[0]).first()\n",
    "max_temp = session.query(func.max(Measurement.tobs)).filter(Measurement.station == most_active[0]).first()\n",
    "avrg_temp = session.query(func.avg(Measurement.tobs)).filter(Measurement.station == most_active[0]).first()\n",
    "print(f'The lowest temperature of station {most_active[0]} is {min_temp[0]}')\n",
    "print(f'The highest temperature of station {most_active[0]} is {max_temp[0]}')\n",
    "print(f'The average temperature of station {most_active[0]} is {avrg_temp[0]}')"
   ]
  },
  {
   "cell_type": "code",
   "execution_count": 228,
   "metadata": {},
   "outputs": [
    {
     "name": "stdout",
     "output_type": "stream",
     "text": [
      "2023-01-12 20:06:03,457 INFO sqlalchemy.engine.Engine SELECT measurement.id AS measurement_id, measurement.station AS measurement_station, measurement.date AS measurement_date, measurement.prcp AS measurement_prcp, measurement.tobs AS measurement_tobs \n",
      "FROM measurement \n",
      "WHERE measurement.date >= ? AND measurement.station = ? ORDER BY measurement.date DESC\n",
      "2023-01-12 20:06:03,458 INFO sqlalchemy.engine.Engine [cached since 555s ago] ('2016-08-23', 'USC00519281')\n"
     ]
    },
    {
     "data": {
      "text/plain": [
       "<AxesSubplot:ylabel='Frequency'>"
      ]
     },
     "execution_count": 228,
     "metadata": {},
     "output_type": "execute_result"
    },
    {
     "data": {
      "image/png": "[encoded data removed]",
      "text/plain": [
       "<Figure size 640x480 with 1 Axes>"
      ]
     },
     "metadata": {},
     "output_type": "display_data"
    }
   ],
   "source": [
    "# Using the most active station id\n",
    "# Query the last 12 months of temperature observation data for this station and plot the results as a histogram\n",
    "temp=session.query(Measurement).\\\n",
    "    filter(Measurement.date>=prev_year,Measurement.station == most_active[0]).order_by(Measurement.date.desc()).all()\n",
    "\n",
    "temp_list = []\n",
    "for item in temp:\n",
    "    temp_list.append(item.tobs)\n",
    "    \n",
    "temperatures = pd.DataFrame(temp_list).rename(columns={0:'Temp'})\n",
    "temperatures.plot(kind='hist', bins=12)\n",
    "\n"
   ]
  },
  {
   "cell_type": "markdown",
   "metadata": {},
   "source": [
    "# Close session"
   ]
  },
  {
   "cell_type": "code",
   "execution_count": 229,
   "metadata": {},
   "outputs": [
    {
     "name": "stdout",
     "output_type": "stream",
     "text": [
      "2023-01-12 20:06:20,814 INFO sqlalchemy.engine.Engine ROLLBACK\n"
     ]
    }
   ],
   "source": [
    "# Close Session\n",
    "session.close()"
   ]
  },
  {
   "cell_type": "code",
   "execution_count": null,
   "metadata": {},
   "outputs": [],
   "source": []
  }
 ],
 "metadata": {
  "anaconda-cloud": {},
  "kernel_info": {
   "name": "python3"
  },
  "kernelspec": {
   "display_name": "Python 3 (ipykernel)",
   "language": "python",
   "name": "python3"
  },
  "language_info": {
   "codemirror_mode": {
    "name": "ipython",
    "version": 3
   },
   "file_extension": ".py",
   "mimetype": "text/x-python",
   "name": "python",
   "nbconvert_exporter": "python",
   "pygments_lexer": "ipython3",
   "version": "3.9.13"
  },
  "nteract": {
   "version": "0.12.3"
  },
  "varInspector": {
   "cols": {
    "lenName": 16,
    "lenType": 16,
    "lenVar": 40
   },
   "kernels_config": {
    "python": {
     "delete_cmd_postfix": "",
     "delete_cmd_prefix": "del ",
     "library": "var_list.py",
     "varRefreshCmd": "print(var_dic_list())"
    },
    "r": {
     "delete_cmd_postfix": ") ",
     "delete_cmd_prefix": "rm(",
     "library": "var_list.r",
     "varRefreshCmd": "cat(var_dic_list()) "
    }
   },
   "types_to_exclude": [
    "module",
    "function",
    "builtin_function_or_method",
    "instance",
    "_Feature"
   ],
   "window_display": false
  }
 },
 "nbformat": 4,
 "nbformat_minor": 2
}
